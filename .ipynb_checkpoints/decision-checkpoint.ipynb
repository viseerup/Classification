{
 "cells": [
  {
   "cell_type": "markdown",
   "metadata": {},
   "source": [
    "# <i class=\"fas fa-circle exercise\"></i> Classification and decision boundaries\n",
    "<span class=\"badge badge-pill badge-warning\">exercise</span><span class=\"badge badge-pill badge-dark\">notebook</span>\n",
    "\n",
    "In this exercise you will be experimenting with linear classifiers. It is, additionally, meant to illustrate the fundamentals of classification, and visualization of decision boundaries.\n"
   ]
  },
  {
   "cell_type": "code",
   "execution_count": 68,
   "metadata": {},
   "outputs": [],
   "source": [
    "import numpy as np   # numeriacal computing\n",
    "import matplotlib.pyplot as plt  # plotting core\n",
    "import seaborn as sns  # higher level plotting tools\n",
    "%matplotlib inline\n",
    "sns.set()\n"
   ]
  },
  {
   "cell_type": "markdown",
   "metadata": {},
   "source": [
    "## Linear Decision boundary\n"
   ]
  },
  {
   "cell_type": "markdown",
   "metadata": {},
   "source": [
    "### Generating data points\n",
    "In the following section you will be experimenting with a standard linear classifier, eg. $\\mathbf{y} = sgn(\\mathbf{\\theta}^\\top\\mathbf{x})$, where $\\theta$ is the model parameters.\n",
    "\n",
    "The cell below generates random data to be used for classification. You do not have to know the details of how the data is generatedata, as it is not the focus of the excersise. However, if you must know, here is a link to [the documentation](https://numpy.org/devdocs/reference/random/generated/numpy.random.multivariate_normal.html) of numpy's random.multivariate_normal.\n"
   ]
  },
  {
   "cell_type": "code",
   "execution_count": 69,
   "metadata": {},
   "outputs": [
    {
     "data": {
      "text/plain": "(40, 2)"
     },
     "execution_count": 69,
     "metadata": {},
     "output_type": "execute_result"
    }
   ],
   "source": [
    "np.random.seed(42)## generate the same sequence of random points\n",
    "# Generate 2 clusters of data, by drawing from a normal distribution.\n",
    "S = np.eye(2) ## covariance matrix, set to indenty matrix i.e. x,y independent. \n",
    "p1 = np.random.multivariate_normal([1,1], S, 40)\n",
    "p2 = np.random.multivariate_normal([-1,-1], S, 40)\n",
    "## 40 points (x,y) coordinates\n",
    "p1.shape\n"
   ]
  },
  {
   "cell_type": "markdown",
   "metadata": {},
   "source": [
    "The data of the two classes are stored in the variables `p1` and `p2`, respectively\n",
    "\\\n",
    "The next cell will visualize the two classes. \n"
   ]
  },
  {
   "cell_type": "code",
   "execution_count": 70,
   "metadata": {},
   "outputs": [
    {
     "data": {
      "text/plain": "<Figure size 432x288 with 1 Axes>",
      "image/png": "[encoded data removed]"
     },
     "metadata": {},
     "output_type": "display_data"
    }
   ],
   "source": [
    "fig, ax = plt.subplots()\n",
    "ax.plot(p1[:,0],p1[:,1], \"o\", label='pos data' )\n",
    "ax.plot(p2[:,0],p2[:,1], \"P\", label='neg data')\n",
    "plt.title(\"Data\", fontsize=24)\n",
    "plt.legend();\n"
   ]
  },
  {
   "cell_type": "markdown",
   "metadata": {},
   "source": [
    "The next step is to manually experiment with model parameters of the linear classifier and visualize the results.\n",
    "\n",
    "### Task (A)\n",
    " <i class=\"fas fa-code\"></i> Implement a `linear_boundary` that, given an x-coordinate and the model parameters, return the y-value of a straight line.\n",
    "    \\\n",
    "    $y = ax + b$\n"
   ]
  },
  {
   "cell_type": "code",
   "execution_count": 71,
   "metadata": {},
   "outputs": [],
   "source": [
    "def linear_boundary(x,params):\n",
    "    \"\"\"\n",
    "    :param x: x values of the line.\n",
    "    :param params: List of parameters [bias, slope] of the line.\n",
    "    \n",
    "    :return: y-values of the boundary / line .\n",
    "    \"\"\"\n",
    "    # Write solutions here\n",
    "    a = params[1]\n",
    "    b = params[0]\n",
    "\n",
    "    return a*x + b\n"
   ]
  },
  {
   "cell_type": "markdown",
   "metadata": {},
   "source": [
    "<i class=\"fas fa-code\"></i> Use the function `linear_boundary` to generate the points of the decision boundary (line) given your own choice of parameters (as input).\n",
    "    \n",
    "<i class=\"fas fa-question\"></i> Which choice of parameters seem (visually) to best seperate the two classes? \n",
    "   \n"
   ]
  },
  {
   "cell_type": "code",
   "execution_count": 72,
   "metadata": {},
   "outputs": [
    {
     "data": {
      "text/plain": "[<matplotlib.lines.Line2D at 0x2180ac2b6a0>]"
     },
     "execution_count": 72,
     "metadata": {},
     "output_type": "execute_result"
    },
    {
     "data": {
      "text/plain": "<Figure size 432x288 with 1 Axes>",
      "image/png": "[encoded data removed]"
     },
     "metadata": {},
     "output_type": "display_data"
    }
   ],
   "source": [
    "# plotting the \n",
    "fig, ax = plt.subplots()\n",
    "ax.plot(p1[:,0],p1[:,1], \"o\", label='pos data' )\n",
    "ax.plot(p2[:,0],p2[:,1], \"P\", label='neg data')\n",
    "# Write solutions here\n",
    "xs = np.array([-3,2])\n",
    "slope = -1\n",
    "bias = -0.4\n",
    "ys = linear_boundary(xs, [bias,slope])\n",
    "ax.plot(xs, ys)\n"
   ]
  },
  {
   "cell_type": "markdown",
   "metadata": {},
   "source": [
    "<i class=\"fas fa-code\"></i> Implement the function `prediction` that predict the `class` (if the point belongs to the `neg` or `pos`) of a point based on the decision line. \n",
    "\\\n",
    "<i class=\"fas fa-code\"></i>  Next, use `prediction` to make the function `fraction_correct` that compare the _predicted class_ to the _actual class_ of given data points. The function should return the fraction of $\\frac{\\#Correct}{\\#All Points}$.\n",
    "\\\n",
    "<i class=\"fas fa-question\"></i> Which values of the parameters provide the largest fraction of correct predictions\n"
   ]
  },
  {
   "cell_type": "code",
   "execution_count": 73,
   "metadata": {},
   "outputs": [
    {
     "data": {
      "text/plain": "0.9375"
     },
     "execution_count": 73,
     "metadata": {},
     "output_type": "execute_result"
    }
   ],
   "source": [
    "def prediction(decision_function,params,p):\n",
    "    \"\"\"\n",
    "    :param decision_function:Obejct used to create the decision boundary (here linear_boundary) \n",
    "    :param params: parameters of you decision function.\n",
    "    :param p: The point [x,y] to predict\n",
    "    \n",
    "    :return: 0 if neg class / 1 if pos class.\n",
    "    \"\"\"\n",
    "    # Write solutions here\n",
    "    y_on_line = decision_function(p[0], params)\n",
    "    y_actual = p[1]\n",
    "\n",
    "    if y_actual < y_on_line:\n",
    "        return 0\n",
    "    else:\n",
    "        return 1\n",
    "\n",
    "def fraction_correct(decision_function,params,data):\n",
    "    \"\"\"\n",
    "    :param decision_function: Obejct used to create the decision boundary\n",
    "    :param params, Parameters of you decision function.\n",
    "    :param data: List containing the two classes of data [pos data, neg data]\n",
    "    \n",
    "    :return: fraction of correctly predicted points (num_correct/num_points).\n",
    "    \"\"\"\n",
    "    # Write solutions here\n",
    "    pos_data = data[0]\n",
    "    neg_data = data[1]\n",
    "\n",
    "    total_correct = 0\n",
    "    total_points = len(pos_data) + len(neg_data)\n",
    "\n",
    "    # Count correctly predicted \"pos\" points\n",
    "    for pos_point in pos_data:\n",
    "        predicted_label = prediction(decision_function, params, pos_point)\n",
    "\n",
    "        if predicted_label == 1:\n",
    "            total_correct += 1\n",
    "\n",
    "    # Count correctly predicted \"neg\" points\n",
    "    for neg_point in neg_data:\n",
    "        predicted_label = prediction(decision_function, params, neg_point)\n",
    "\n",
    "        if predicted_label == 0:\n",
    "            total_correct += 1\n",
    "\n",
    "    return total_correct / total_points\n",
    "\n",
    "# prediction(linear_boundary, [bias, slope], [0, 0])\n",
    "fraction_correct(linear_boundary, [bias, slope], [p1, p2])"
   ]
  },
  {
   "cell_type": "markdown",
   "metadata": {},
   "source": [
    "\n",
    "<i class=\"fas fa-question\"></i> Is a linear decision boundary a good model to seperate the two groups of data?\n",
    "\n",
    "> If we used a curve we could get higher fraction of correctly classified points but the model might become overfitted.\n",
    "> The linear decision boundary gives a pretty good result of 93% correctness.\n"
   ]
  },
  {
   "cell_type": "markdown",
   "metadata": {},
   "source": [
    "## Non-linear decision boundary\n",
    "\n",
    "In the following section you will be experimenting with a slightly more exotic set of data,\n",
    "and explore whether a straight line can still be used for accurate classification.\n",
    "\n",
    "The cell below generates two classes of random data to be used for classification.\n"
   ]
  },
  {
   "cell_type": "code",
   "execution_count": 74,
   "metadata": {},
   "outputs": [],
   "source": [
    "### Data generation\n",
    "q1 = np.random.multivariate_normal([0,0], [[.5,0],[0,.5]] , 400)\n",
    "\n",
    "t = np.linspace(0,2*np.pi,400) ##  \n",
    "q2 = np.array([(3+q1[:,0])*np.sin(t), (3+q1[:,1])*np.cos(t)]).T\n"
   ]
  },
  {
   "cell_type": "markdown",
   "metadata": {},
   "source": [
    "The data of the two classes (`class 1` and `class 2`) are stored in the variables `q1` and `q2`, respectively\n",
    "\\\n",
    "The following cell will visualize the data of the two classes. \n"
   ]
  },
  {
   "cell_type": "code",
   "execution_count": 75,
   "metadata": {},
   "outputs": [
    {
     "data": {
      "text/plain": "<Figure size 432x288 with 1 Axes>",
      "image/png": "[encoded data removed]"
     },
     "metadata": {},
     "output_type": "display_data"
    }
   ],
   "source": [
    "###\n",
    "fig, ax = plt.subplots()\n",
    "ax.plot(q2[:,0], q2[:,1], \"o\",label='class 2')\n",
    "ax.plot(q1[:,0], q1[:,1], \"o\",label='class 1')\n",
    "\n",
    "\n",
    "plt.title(\"Non-linear data\", fontsize=24)\n",
    "ax.axis('equal')\n",
    "plt.legend()\n",
    "plt.show()\n"
   ]
  },
  {
   "cell_type": "markdown",
   "metadata": {},
   "source": [
    "### Task (B)\n",
    "<i class=\"fas fa-question\"></i>  What is the best accuracy you can achieve if you attempt to predict the class of the data with a straight line? (Use your implementation from `Task (A)`)\n",
    "\\\n",
    "<i class=\"fas fa-code\"></i>  Use the parametric equation of a circle ([described in detail here](https://mathopenref.com/coordparamcircle.html))\n",
    "    \\\n",
    "    $ x = a\\sin(t)$\n",
    "    \\\n",
    "    $ y = a\\cos(t)$\n",
    "   \\\n",
    "    to create `circle_boundary` that given `t` (array of angles) and the radius as input, return the x and y-value of the circle.\n",
    "    \n",
    "   __Hint__: Use the already provided linspace `t`  to plot a circular boundary.\n"
   ]
  },
  {
   "cell_type": "code",
   "execution_count": 79,
   "metadata": {},
   "outputs": [
    {
     "name": "stdout",
     "output_type": "stream",
     "text": [
      "The accuracy of predicting the class using a straight line:  0.5\n"
     ]
    },
    {
     "data": {
      "text/plain": "<Figure size 432x288 with 1 Axes>",
      "image/png": "[encoded data removed]"
     },
     "metadata": {},
     "output_type": "display_data"
    }
   ],
   "source": [
    "t = np.linspace(0,2*np.pi,400) ### create 400 points in the range 0 ->2*pi (angles in radian units) \n",
    "\n",
    "def circle_boundary(t,radius):\n",
    "    \"\"\"\n",
    "    :param t: angle data points of the circle. \n",
    "    :param radius: radius of the circle\n",
    "    :return: (x-values,y-values) of the circle points .\n",
    "    \"\"\"\n",
    "    # Write solutions here\n",
    "\n",
    "    x_values = []\n",
    "    y_values = []\n",
    "\n",
    "    for angle_rad in t:\n",
    "        x = radius * np.sin(angle_rad)\n",
    "        y = radius * np.cos(angle_rad)\n",
    "\n",
    "        x_values.append(x)\n",
    "        y_values.append(y)\n",
    "\n",
    "    return x_values, y_values\n",
    "\n",
    "\n",
    "fig, ax = plt.subplots()\n",
    "ax.plot(q2[:,0], q2[:,1], \"o\",label='class 2')\n",
    "ax.plot(q1[:,0],q1[:,1], \"P\",label='class 1')\n",
    "\n",
    "# plot the circle\n",
    "########\n",
    "radius = 2\n",
    "x_values, y_values = circle_boundary(t, radius)\n",
    "ax.plot(x_values, y_values, label='circle boundary')\n",
    "########\n",
    "\n",
    "xs = np.array([-4,4])\n",
    "slope = -1\n",
    "bias = 0\n",
    "ys = linear_boundary(xs, [bias,slope])\n",
    "ax.plot(xs, ys, label='line boundary')\n",
    "\n",
    "plt.title(\"Non-linear data (circle vs. line boundary)\", fontsize=24)\n",
    "ax.axis('equal')\n",
    "plt.legend()\n",
    "\n",
    "accuracy_straight_line = fraction_correct(linear_boundary, [bias, slope], [q1, q2])\n",
    "print(\"The accuracy of predicting the class using a straight line: \", accuracy_straight_line)"
   ]
  },
  {
   "cell_type": "markdown",
   "metadata": {
    "tags": []
   },
   "source": [
    "<i class=\"fas fa-question\"></i> Which choice of radius seem (visually) to best separate the two classes.  \n",
    "<i class=\"fas fa-question\"></i> Could the decision boundary from above be learned by a linear model? __Remember__: A Linear model in machine learning refer to linear in the parameters. \n",
    "\\\n",
    "<i class=\"fas fa-code\"></i> (optional) Implement a method like in the `Task (A)` that provides the fraction of points correctly separated by the decision boundary.\n",
    "_hint_: Can actually be done easily if your predict based on if $x^2+y^2$ is $>r^2$ or $<r^2$\n"
   ]
  },
  {
   "cell_type": "code",
   "execution_count": 89,
   "metadata": {},
   "outputs": [
    {
     "name": "stdout",
     "output_type": "stream",
     "text": [
      "The correctness of the circular boundary model is:  0.97875\n"
     ]
    }
   ],
   "source": [
    "########\n",
    "correct_points = 0\n",
    "total_points = len(q1) + len(q2)\n",
    "\n",
    "# Calculating the squares of the x and y coordinates of both classes of points\n",
    "q1_squared = np.power(q1, 2)\n",
    "q2_squared = np.power(q2, 2)\n",
    "\n",
    "# Calculating x^2 + y^2 of both classes of points (which is the squared distance from the center)\n",
    "squared_distances_q1 = np.sum(q1_squared, axis=1)\n",
    "squared_distances_q2 = np.sum(q2_squared, axis=1)\n",
    "\n",
    "# Counting the points in the circle from class 1 as correctly classified\n",
    "q1_in_circle = squared_distances_q1 < np.power(radius, 2)\n",
    "correct_points += np.sum(q1_in_circle)\n",
    "\n",
    "# Counting the points from class 2 outside the circle as correctly classfied\n",
    "q2_outside_circle = squared_distances_q2 > np.power(radius, 2)\n",
    "correct_points += np.sum(q2_outside_circle)\n",
    "\n",
    "correctness_ratio = correct_points / total_points\n",
    "\n",
    "print(\"The correctness of the circular boundary model is: \", correctness_ratio)\n",
    "\n",
    "########\n",
    "\n"
   ]
  },
  {
   "cell_type": "markdown",
   "metadata": {},
   "source": [
    "## Batman (optional, but fun!)\n",
    "\n",
    "In this last section, we will look at ulabeled data and predict the `class` of each point by implementing a specific decision boundary.\n",
    "\\\n",
    "The cell below generates uniformly distributed random data, but unlabeled this time (i.e. we do not have two groups of data this time). \n"
   ]
  },
  {
   "cell_type": "code",
   "execution_count": null,
   "metadata": {},
   "outputs": [],
   "source": [
    "# Generate (uniformly distrubuted data)\n",
    "X = np.random.uniform(-8.5,8.5,(500,2))\n"
   ]
  },
  {
   "cell_type": "markdown",
   "metadata": {},
   "source": [
    "The unlabeled data is stored in the variable `X`.\n",
    "\n",
    "The data is visualized in the cell below. \n"
   ]
  },
  {
   "cell_type": "code",
   "execution_count": null,
   "metadata": {},
   "outputs": [],
   "source": [
    "## plotting the data\n",
    "fig, ax = plt.subplots()\n",
    "ax.plot(X[:,0],X[:,1], \"o\", label='Unlabeled data' )\n",
    "\n",
    "plt.title(\"Unlabeled Data\", fontsize=24)\n",
    "plt.show()\n"
   ]
  },
  {
   "cell_type": "markdown",
   "metadata": {
    "tags": []
   },
   "source": [
    "### Equation: batman logo\n",
    "An equtation for the batman logo is given by the following horrifying piecewise equation.\n",
    "\n",
    "Upper part of the logo: \n",
    "\n",
    "\\begin{equation*}\n",
    "y = \\left\\{\n",
    "        \\begin{array}{ll}\n",
    "            2\\cdot\\sqrt{-\\frac{(||x|-1|)\\cdot|3-|x||}{((|x|-1)\\cdot(3-|x|))}}\\cdot\\frac{1+||x|-3|}{(|x|-3)}𝑦𝑦\\cdot\\sqrt{1-(x/7)^2}+(5+0.97\\cdot(|x-0.5|+|x+0.5|)-3\\cdot(|x-0.75)|+|x+0.75|))\\cdot(1+|1-|x||/(1-|x|))\n",
    " & \\quad x\\in[-7,-3) \\cup (-1,1) \\cup (3,7]   \\\\\n",
    "            (2.71052+(1.5-0.5\\cdot|x|)-1.35526\\cdot\\sqrt{4-(|x|-1)^2})\\cdot\\sqrt{(||x|-1|)/(|x|-1)}+0.9 & \\quad x \\in [-3,-1) \\cup (1,3] \n",
    "        \\end{array}\n",
    "    \\right.\n",
    "\\end{equation*}\n",
    "\n",
    "Lower part of the logo:\n",
    "\\begin{equation*}\n",
    "y = \\left\\{\n",
    "        \\begin{array}{ll}\n",
    "            -3\\cdot\\sqrt{1-(x/7)^2}\\cdot\\sqrt{||x|-4|/(|x|-4)} & \\quad x \\in (-7,-4)\\cup (4,7) \\\\\n",
    "            |x/2|-0.0913722\\cdot(x^2)-3+\\sqrt{1-(||x|-2|-1)^2} & \\quad x \\in [-4,4]\n",
    "        \\end{array}\n",
    "    \\right.\n",
    "\\end{equation*}\n",
    "\n",
    "We are not so evil as to require that you type in the equations yourself, in the cells below you have to use the 4 provide equations (each defined on a specific interval) to \n",
    "construct a decision boundary. \n"
   ]
  },
  {
   "cell_type": "markdown",
   "metadata": {},
   "source": [
    "### Task (D) \n",
    "<i class=\"fas fa-code\"></i>  Use the 2 equations for upper part of the logo to implement `batman_up` that provided an x-value return the corresponding y-value of the upper logo boundary. If $|x|>7$ the functions should return `nan`. \n",
    "\\\n",
    "<i class=\"fas fa-code\"></i>  Use the 2 equations for lower part of the logo to implement`batman_low` that provided an x-value return the corresponding y-value of the lower logo boundary. Again, if $|x|>7$ the functions should return `nan`. \n",
    "\\\n",
    "<i class=\"fas fa-code\"></i> Use the `batman_up` and `batman_low` to plot the batman logo. _Hint_: Use list comprehension.\n"
   ]
  },
  {
   "cell_type": "code",
   "execution_count": null,
   "metadata": {},
   "outputs": [],
   "source": [
    "#Use the 4 equations in the interval they are defined on.\n",
    "\"\"\"\n",
    "##upper part\n",
    "### interval [-7:-3), (-1:1) and (3:7] \n",
    "eq1 = 2*np.sqrt(-abs(abs(x)-1)*abs(3-abs(x))/((abs(x)-1)*(3-abs(x))))*(1+abs(abs(x)-3)/(abs(x)-3))*np.sqrt(1-(x/7)**2)+(5+0.97*(abs(x-0.5)+abs(x+0.5))-3*(abs(x-0.75)+abs(x+0.75)))*(1+abs(1-abs(x))/(1-abs(x)))\n",
    "### interval [-3,-1) and (1,3]\n",
    "eq2 = (2.71052+(1.5-0.5*abs(x))-1.35526*np.sqrt(4-(abs(x)-1)**2))*np.sqrt(abs(abs(x)-1)/(abs(x)-1))+0.9\n",
    "\n",
    "##lower part\n",
    "### interval (-7:-4[ and ]4:7[\n",
    "eq3 = -3*np.sqrt(1-(x/7)**2)*np.sqrt(abs(abs(x)-4)/(abs(x)-4))\n",
    "## interval [-4:4]\n",
    "eq4 = abs(x/2)-0.0913722*(x**2)-3+np.sqrt(1-(abs(abs(x)-2)-1)**2)\n",
    "\"\"\"\n",
    "print()\n"
   ]
  },
  {
   "cell_type": "code",
   "execution_count": null,
   "metadata": {},
   "outputs": [],
   "source": [
    "def batman_up(x):\n",
    "    \"\"\"\n",
    "    The function takes a single x-value and return y-value that would place the point (x,y) on the upper \n",
    "    line of the batman logo.\n",
    "    \n",
    "    :param x: single x-value.\n",
    "    :return:  y-value of the upper line of the batmon logo\n",
    "    \"\"\"\n",
    "    return None # Replace\n",
    "    \n",
    "def batman_low(x):\n",
    "    \"\"\"\n",
    "    The function takes a single x-value and return y-value that would place the point (x,y) on the lower \n",
    "    line of the batman logo.\n",
    "    \n",
    "    :param x: single x-value.\n",
    "    :return:  y-value of the lower line of the batmon logo\n",
    "    \"\"\"\n",
    "    return None # Replace\n",
    "    \n",
    "### Plot the logo\n",
    "x_plot = np.linspace(-7.2,7.2,10000) ### a lot of x-values\n",
    "\n",
    "#Your code here\n"
   ]
  },
  {
   "cell_type": "markdown",
   "metadata": {
    "tags": []
   },
   "source": [
    "\n",
    "<i class=\"fas fa-code\"></i> Next, use `batman_low` and `batman_up` to classify whether the points are inside the logo or outside the logo.\n",
    "\\\n",
    "<i class=\"fas fa-code\"></i>  Plot the classified points, make the points outside black and the ones inside the boundary yellow. \n"
   ]
  },
  {
   "cell_type": "code",
   "execution_count": null,
   "metadata": {},
   "outputs": [],
   "source": [
    "\n",
    "###############\n",
    "#Your code here\n",
    "###############\n"
   ]
  },
  {
   "cell_type": "markdown",
   "metadata": {},
   "source": [
    "<i class=\"fas fa-code\"></i> (FOR FUN) Generate $100000$ unlabeled points instead and repeat step 2 again. \n"
   ]
  },
  {
   "cell_type": "code",
   "execution_count": null,
   "metadata": {},
   "outputs": [],
   "source": [
    "###############\n",
    "#Your code here\n",
    "###############\n"
   ]
  },
  {
   "cell_type": "markdown",
   "metadata": {},
   "source": [
    "This last example is meant to showcase that a there is no real limit for how complex a decision boundary can be. If the model is large (parameter-wise) and complex enough, any seqmentation of the feature space is possible. \n",
    "\n",
    "However, an overly complex model is not a good thing as you will soon discover (next week). \n",
    "\n",
    "## BONUS INFO\n",
    "\n",
    "What we have done here in the last TASK is actually an ACCEPT/REJECT Monte Carlo sampling. [You can read a bit about Monte Carlo sampling here](https://people.eecs.berkeley.edu/~jordan/courses/260-spring10/lectures/lecture17.pdf)\n"
   ]
  }
 ],
 "metadata": {
  "kernelspec": {
   "display_name": "Python 3 (ipykernel)",
   "language": "python",
   "name": "python3"
  },
  "language_info": {
   "codemirror_mode": {
    "name": "ipython",
    "version": 3
   },
   "file_extension": ".py",
   "mimetype": "text/x-python",
   "name": "python",
   "nbconvert_exporter": "python",
   "pygments_lexer": "ipython3",
   "version": "3.8.10"
  }
 },
 "nbformat": 4,
 "nbformat_minor": 4
}